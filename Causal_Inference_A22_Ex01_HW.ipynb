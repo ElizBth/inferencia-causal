{
 "cells": [
  {
   "cell_type": "markdown",
   "metadata": {
    "colab_type": "text",
    "id": "view-in-github"
   },
   "source": [
    "<a href=\"https://colab.research.google.com/github/ccaballeroh/InferenciaCausal_A22/blob/main/code/assignments/Causal_Inference_A22_Ex01_HW.ipynb\" target=\"_parent\"><img src=\"https://colab.research.google.com/assets/colab-badge.svg\" alt=\"Open In Colab\"/></a>"
   ]
  },
  {
   "cell_type": "markdown",
   "metadata": {
    "id": "VsP4pGCFPXhZ"
   },
   "source": [
    "En esta celda escribe tu **Elizabeth López Lozada** y tu **DCC** (ESCOM, MCC, MCIC o DCC)"
   ]
  },
  {
   "cell_type": "markdown",
   "metadata": {
    "id": "RVQLujIS1K50"
   },
   "source": [
    "# Análisis de salarios entre hombres y mujeres"
   ]
  },
  {
   "cell_type": "markdown",
   "metadata": {
    "id": "IAaEVoM5lxj4"
   },
   "source": [
    "Supongamos que trabajamos como _data scientists_ en una empresa y se nos proporciona un conjunto de datos sobre los salarios entre hombres y mujeres en la compañía.\n",
    "\n",
    "Con este conjunto de datos se nos pide contestar **¿cuál es la brecha de paga entre hombres y mujeres en la empresa?**"
   ]
  },
  {
   "cell_type": "markdown",
   "metadata": {
    "id": "IDol42GFYacy"
   },
   "source": [
    "## Preliminares\n",
    "\n",
    "Importa los módulos/paquetes necesarios."
   ]
  },
  {
   "cell_type": "code",
   "execution_count": 1,
   "metadata": {
    "id": "uDrm6pj9UZRW"
   },
   "outputs": [],
   "source": [
    "import pandas as pd\n",
    "import numpy as np\n",
    "import matplotlib.pyplot as plt\n",
    "import seaborn as sns\n",
    "import statsmodels.formula.api as smf\n",
    "from tqdm import tqdm"
   ]
  },
  {
   "cell_type": "markdown",
   "metadata": {
    "id": "e1X1bOlGYf8k"
   },
   "source": [
    "Definición de funciones auxiliares usadas."
   ]
  },
  {
   "cell_type": "code",
   "execution_count": 2,
   "metadata": {
    "id": "QFRLK1U9Wcv4"
   },
   "outputs": [],
   "source": [
    "def generate_data(**kwargs):\n",
    "  raise NotImplementedError\n",
    "\n",
    "def read_data(**kwargs):\n",
    "  csv_filename = kwargs[\"csv_filename\"]\n",
    "  return pd.read_csv(csv_filename, index_col=0)"
   ]
  },
  {
   "cell_type": "markdown",
   "metadata": {
    "id": "GETJM-2w1f_C"
   },
   "source": [
    "La variable `ENV` debe tener valor `\"HW\"` cuando está en modo de tarea."
   ]
  },
  {
   "cell_type": "code",
   "execution_count": 3,
   "metadata": {
    "id": "Fomz9yeUy_DY"
   },
   "outputs": [],
   "source": [
    "ENV = \"HW\""
   ]
  },
  {
   "cell_type": "code",
   "execution_count": 4,
   "metadata": {
    "id": "OfB69KVTwMLV"
   },
   "outputs": [],
   "source": [
    "get_data = read_data if ENV == \"HW\" else generate_data"
   ]
  },
  {
   "cell_type": "markdown",
   "metadata": {
    "id": "05dBtcORYk07"
   },
   "source": [
    "## Inicio"
   ]
  },
  {
   "cell_type": "markdown",
   "metadata": {
    "id": "lvzKEDgm14c7"
   },
   "source": [
    "Lee los datos desde el archivo `ex_01_wages.csv` con la función `read_data` definida arriba."
   ]
  },
  {
   "cell_type": "code",
   "execution_count": 5,
   "metadata": {
    "id": "3rXB-0s8v89F"
   },
   "outputs": [],
   "source": [
    "kwargs = {\n",
    "    \"csv_filename\": \"https://raw.githubusercontent.com/ccaballeroh/InferenciaCausal_A22/main/data/ex_01_wages.csv\"\n",
    "}\n",
    "\n",
    "data = get_data(**kwargs)\n",
    "\n",
    "if not ENV == \"HW\":\n",
    "  data.to_csv(\"ex_01_wages.csv\")"
   ]
  },
  {
   "cell_type": "markdown",
   "metadata": {
    "id": "boOV-ONo2Mm8"
   },
   "source": [
    "## Análisis exploratorio de datos"
   ]
  },
  {
   "cell_type": "markdown",
   "metadata": {
    "id": "6RwMG1Y92RRi"
   },
   "source": [
    "Veamos las primeras líneas del conjunto de datos guardado en el DataFrame llamado `data`."
   ]
  },
  {
   "cell_type": "code",
   "execution_count": 6,
   "metadata": {
    "id": "1BRh_SiHyDlZ"
   },
   "outputs": [
    {
     "data": {
      "text/html": [
       "<div>\n",
       "<style scoped>\n",
       "    .dataframe tbody tr th:only-of-type {\n",
       "        vertical-align: middle;\n",
       "    }\n",
       "\n",
       "    .dataframe tbody tr th {\n",
       "        vertical-align: top;\n",
       "    }\n",
       "\n",
       "    .dataframe thead th {\n",
       "        text-align: right;\n",
       "    }\n",
       "</style>\n",
       "<table border=\"1\" class=\"dataframe\">\n",
       "  <thead>\n",
       "    <tr style=\"text-align: right;\">\n",
       "      <th></th>\n",
       "      <th>sexo</th>\n",
       "      <th>puesto</th>\n",
       "      <th>salario</th>\n",
       "    </tr>\n",
       "    <tr>\n",
       "      <th>index</th>\n",
       "      <th></th>\n",
       "      <th></th>\n",
       "      <th></th>\n",
       "    </tr>\n",
       "  </thead>\n",
       "  <tbody>\n",
       "    <tr>\n",
       "      <th>0</th>\n",
       "      <td>Hombre</td>\n",
       "      <td>No gerencial</td>\n",
       "      <td>24092.767040</td>\n",
       "    </tr>\n",
       "    <tr>\n",
       "      <th>1</th>\n",
       "      <td>Mujer</td>\n",
       "      <td>No gerencial</td>\n",
       "      <td>25574.011864</td>\n",
       "    </tr>\n",
       "    <tr>\n",
       "      <th>2</th>\n",
       "      <td>Hombre</td>\n",
       "      <td>Gerencial</td>\n",
       "      <td>39051.930008</td>\n",
       "    </tr>\n",
       "    <tr>\n",
       "      <th>3</th>\n",
       "      <td>Mujer</td>\n",
       "      <td>No gerencial</td>\n",
       "      <td>26058.226921</td>\n",
       "    </tr>\n",
       "    <tr>\n",
       "      <th>4</th>\n",
       "      <td>Hombre</td>\n",
       "      <td>Gerencial</td>\n",
       "      <td>44688.832593</td>\n",
       "    </tr>\n",
       "  </tbody>\n",
       "</table>\n",
       "</div>"
      ],
      "text/plain": [
       "         sexo        puesto       salario\n",
       "index                                    \n",
       "0      Hombre  No gerencial  24092.767040\n",
       "1       Mujer  No gerencial  25574.011864\n",
       "2      Hombre     Gerencial  39051.930008\n",
       "3       Mujer  No gerencial  26058.226921\n",
       "4      Hombre     Gerencial  44688.832593"
      ]
     },
     "execution_count": 6,
     "metadata": {},
     "output_type": "execute_result"
    }
   ],
   "source": [
    "# Llama el método `head()` del DataFrame\n",
    "data.head()"
   ]
  },
  {
   "cell_type": "markdown",
   "metadata": {
    "id": "9WUM66qi2deO"
   },
   "source": [
    "Imprime el tipo de dato de las columnas de `data`."
   ]
  },
  {
   "cell_type": "code",
   "execution_count": 7,
   "metadata": {
    "id": "FeLDbfYi2jDF"
   },
   "outputs": [
    {
     "data": {
      "text/plain": [
       "sexo        object\n",
       "puesto      object\n",
       "salario    float64\n",
       "dtype: object"
      ]
     },
     "execution_count": 7,
     "metadata": {},
     "output_type": "execute_result"
    }
   ],
   "source": [
    "# Llama el atributo `dtypes` del DataFrame\n",
    "data.dtypes"
   ]
  },
  {
   "cell_type": "markdown",
   "metadata": {
    "id": "PbhF80wj3Dmd"
   },
   "source": [
    "Imprime el resumen del conjunto de datos."
   ]
  },
  {
   "cell_type": "code",
   "execution_count": 8,
   "metadata": {
    "id": "Jn0JxWts0wPK"
   },
   "outputs": [
    {
     "data": {
      "text/html": [
       "<div>\n",
       "<style scoped>\n",
       "    .dataframe tbody tr th:only-of-type {\n",
       "        vertical-align: middle;\n",
       "    }\n",
       "\n",
       "    .dataframe tbody tr th {\n",
       "        vertical-align: top;\n",
       "    }\n",
       "\n",
       "    .dataframe thead th {\n",
       "        text-align: right;\n",
       "    }\n",
       "</style>\n",
       "<table border=\"1\" class=\"dataframe\">\n",
       "  <thead>\n",
       "    <tr style=\"text-align: right;\">\n",
       "      <th></th>\n",
       "      <th>salario</th>\n",
       "    </tr>\n",
       "  </thead>\n",
       "  <tbody>\n",
       "    <tr>\n",
       "      <th>count</th>\n",
       "      <td>200.000000</td>\n",
       "    </tr>\n",
       "    <tr>\n",
       "      <th>mean</th>\n",
       "      <td>35155.418105</td>\n",
       "    </tr>\n",
       "    <tr>\n",
       "      <th>std</th>\n",
       "      <td>8506.795221</td>\n",
       "    </tr>\n",
       "    <tr>\n",
       "      <th>min</th>\n",
       "      <td>17037.452191</td>\n",
       "    </tr>\n",
       "    <tr>\n",
       "      <th>25%</th>\n",
       "      <td>28699.515533</td>\n",
       "    </tr>\n",
       "    <tr>\n",
       "      <th>50%</th>\n",
       "      <td>33567.270374</td>\n",
       "    </tr>\n",
       "    <tr>\n",
       "      <th>75%</th>\n",
       "      <td>40003.413391</td>\n",
       "    </tr>\n",
       "    <tr>\n",
       "      <th>max</th>\n",
       "      <td>67095.395958</td>\n",
       "    </tr>\n",
       "  </tbody>\n",
       "</table>\n",
       "</div>"
      ],
      "text/plain": [
       "            salario\n",
       "count    200.000000\n",
       "mean   35155.418105\n",
       "std     8506.795221\n",
       "min    17037.452191\n",
       "25%    28699.515533\n",
       "50%    33567.270374\n",
       "75%    40003.413391\n",
       "max    67095.395958"
      ]
     },
     "execution_count": 8,
     "metadata": {},
     "output_type": "execute_result"
    }
   ],
   "source": [
    "# Llama al método `describe()` con el argumento `include=['object', 'float', 'int]`\n",
    "data.describe()"
   ]
  },
  {
   "cell_type": "markdown",
   "metadata": {
    "id": "hNBuaf3n3Jxy"
   },
   "source": [
    "Haz una gráfica de caja de `salario` por `sexo`."
   ]
  },
  {
   "cell_type": "code",
   "execution_count": 9,
   "metadata": {
    "id": "13Kk9jyckt4O"
   },
   "outputs": [
    {
     "data": {
      "text/plain": [
       "<seaborn.axisgrid.FacetGrid at 0x166afcadeb0>"
      ]
     },
     "execution_count": 9,
     "metadata": {},
     "output_type": "execute_result"
    },
    {
     "data": {
      "image/png": "[encoded data removed]",
      "text/plain": [
       "<Figure size 360x360 with 1 Axes>"
      ]
     },
     "metadata": {
      "needs_background": "light"
     },
     "output_type": "display_data"
    }
   ],
   "source": [
    "# Utiliza `catplot` de Seaborn\n",
    "sns.catplot(x=\"salario\", y=\"sexo\", hue=\"salario\", data=data)"
   ]
  },
  {
   "cell_type": "markdown",
   "metadata": {
    "id": "_ToUeAIP3we_"
   },
   "source": [
    "¿Qué opinas sobre si hay o no diferencia salarial entre hombres y mujeres?"
   ]
  },
  {
   "cell_type": "markdown",
   "metadata": {
    "id": "4GdK8SZi35co"
   },
   "source": [
    "**Tu respuesta:**\n",
    "Se puede observar que la distribuciónn salarial de los hombres es más variado (de bajos a altos), mientras que la distribución salarial que presenta la muestra de de las mujeres se concentra entre salarios bajos y medios. Son pocos los casos donde los salarios son altos, y sin embargo, en la mayoría de los casos son menores a los salarios de la muestra masculina."
   ]
  },
  {
   "cell_type": "markdown",
   "metadata": {
    "id": "04JREz4K3PNt"
   },
   "source": [
    "Ahora, haz una gráfica de caja de `salario` por `sexo` separando por la tercera variable `puesto`."
   ]
  },
  {
   "cell_type": "code",
   "execution_count": 10,
   "metadata": {
    "id": "100f6FZPWsU2"
   },
   "outputs": [
    {
     "data": {
      "text/plain": [
       "<seaborn.axisgrid.FacetGrid at 0x166b04850d0>"
      ]
     },
     "execution_count": 10,
     "metadata": {},
     "output_type": "execute_result"
    },
    {
     "data": {
      "image/png": "[encoded data removed]",
      "text/plain": [
       "<Figure size 458.875x360 with 1 Axes>"
      ]
     },
     "metadata": {
      "needs_background": "light"
     },
     "output_type": "display_data"
    }
   ],
   "source": [
    "# Utiliza `catplot`\n",
    "sns.catplot(x=\"salario\", y=\"sexo\", hue=\"puesto\", data=data)"
   ]
  },
  {
   "cell_type": "markdown",
   "metadata": {
    "id": "hzNZMwsj3hR2"
   },
   "source": [
    "¿Cambió tu opinión? ¿Hay diferencia entre hombres y mujeres comparando por el mismo tipo de puesto?"
   ]
  },
  {
   "cell_type": "markdown",
   "metadata": {
    "id": "71_LwjuE4dkT"
   },
   "source": [
    "**Tu respuesta:**\n",
    "Se sigue observando que los salarios de las mujeres son más bajos que los salarios de los hombres en puestos gerenciales, excepto por un caso que destaca del resto."
   ]
  },
  {
   "cell_type": "markdown",
   "metadata": {
    "id": "pmhAbPXo4gmI"
   },
   "source": [
    "Ahora, haz una gráfica categórica de tipo `swarm` usando `catplot` de Seaborn. En el eje de las equis coloca el `puesto`; en el de las ye, `salario` y separa por `sexo`. "
   ]
  },
  {
   "cell_type": "code",
   "execution_count": 11,
   "metadata": {
    "id": "wE0y1U-UY-1j"
   },
   "outputs": [
    {
     "data": {
      "text/plain": [
       "<seaborn.axisgrid.FacetGrid at 0x166b0a6ddf0>"
      ]
     },
     "execution_count": 11,
     "metadata": {},
     "output_type": "execute_result"
    },
    {
     "data": {
      "image/png": "[encoded data removed]",
      "text/plain": [
       "<Figure size 435.375x360 with 1 Axes>"
      ]
     },
     "metadata": {
      "needs_background": "light"
     },
     "output_type": "display_data"
    }
   ],
   "source": [
    "# Tu código\n",
    "\n",
    "sns.catplot(x=\"puesto\", y=\"salario\", hue=\"sexo\", kind=\"swarm\", data=data)"
   ]
  },
  {
   "cell_type": "markdown",
   "metadata": {
    "id": "FAH2k-HH5dzW"
   },
   "source": [
    "¿Es mucha la diferencia en salario entre gerentes y no gerentes?"
   ]
  },
  {
   "cell_type": "markdown",
   "metadata": {
    "id": "oO-UFHHcgMk4"
   },
   "source": [
    "**Tu respuesta:**\n",
    "En algunos casos la diferencia de salario es amplia pero no es una regla general que aplica para todos los casos."
   ]
  },
  {
   "cell_type": "markdown",
   "metadata": {
    "id": "E0C2EHZq5lP-"
   },
   "source": [
    "Ahora haz la misma gráfica, pero invierte las variables para las equis y el _hue_."
   ]
  },
  {
   "cell_type": "code",
   "execution_count": 12,
   "metadata": {
    "id": "mczugpBeQIPD"
   },
   "outputs": [
    {
     "data": {
      "text/plain": [
       "<seaborn.axisgrid.FacetGrid at 0x166b0a1d5e0>"
      ]
     },
     "execution_count": 12,
     "metadata": {},
     "output_type": "execute_result"
    },
    {
     "data": {
      "image/png": "[encoded data removed]",
      "text/plain": [
       "<Figure size 435.375x360 with 1 Axes>"
      ]
     },
     "metadata": {
      "needs_background": "light"
     },
     "output_type": "display_data"
    }
   ],
   "source": [
    "# Tu código\n",
    "sns.catplot(x=\"salario\", y=\"puesto\", hue=\"sexo\", kind=\"swarm\", data=data)"
   ]
  },
  {
   "cell_type": "markdown",
   "metadata": {
    "id": "qYXEBlRJ5V9_"
   },
   "source": [
    "¿Hay más o menos mujeres que hombres en puestos altos? ¿Y en puestos bajos?\n",
    "\n",
    "**Tu respuesta:**\n",
    "La mayor parte de los puestos cubiertos por mujeres son en áreas \"No Gerenciales\", mientras que son escasos los puestos en que una mujer toma un puesto \"Gerencial\""
   ]
  },
  {
   "cell_type": "markdown",
   "metadata": {
    "id": "np_JblnZ5zRm"
   },
   "source": [
    "Genera una tabla de contingencia para el salario promedio y otra para el número total de personas en cada combinación de categorías."
   ]
  },
  {
   "cell_type": "code",
   "execution_count": 13,
   "metadata": {
    "id": "yqk1QZYcammq"
   },
   "outputs": [
    {
     "data": {
      "text/html": [
       "<div>\n",
       "<style scoped>\n",
       "    .dataframe tbody tr th:only-of-type {\n",
       "        vertical-align: middle;\n",
       "    }\n",
       "\n",
       "    .dataframe tbody tr th {\n",
       "        vertical-align: top;\n",
       "    }\n",
       "\n",
       "    .dataframe thead th {\n",
       "        text-align: right;\n",
       "    }\n",
       "</style>\n",
       "<table border=\"1\" class=\"dataframe\">\n",
       "  <thead>\n",
       "    <tr style=\"text-align: right;\">\n",
       "      <th>sexo</th>\n",
       "      <th>Hombre</th>\n",
       "      <th>Mujer</th>\n",
       "    </tr>\n",
       "    <tr>\n",
       "      <th>puesto</th>\n",
       "      <th></th>\n",
       "      <th></th>\n",
       "    </tr>\n",
       "  </thead>\n",
       "  <tbody>\n",
       "    <tr>\n",
       "      <th>Gerencial</th>\n",
       "      <td>45342.802726</td>\n",
       "      <td>48006.103590</td>\n",
       "    </tr>\n",
       "    <tr>\n",
       "      <th>No gerencial</th>\n",
       "      <td>30692.538241</td>\n",
       "      <td>31460.255062</td>\n",
       "    </tr>\n",
       "  </tbody>\n",
       "</table>\n",
       "</div>"
      ],
      "text/plain": [
       "sexo                Hombre         Mujer\n",
       "puesto                                  \n",
       "Gerencial     45342.802726  48006.103590\n",
       "No gerencial  30692.538241  31460.255062"
      ]
     },
     "execution_count": 13,
     "metadata": {},
     "output_type": "execute_result"
    }
   ],
   "source": [
    "# Utiliza `crosstab` de Pandas con la función de agregación `mean` de Numpy\n",
    "pd.crosstab(data.puesto, data.sexo, values=data.salario, aggfunc=np.mean)"
   ]
  },
  {
   "cell_type": "code",
   "execution_count": 14,
   "metadata": {
    "id": "45miQQo6eO8H"
   },
   "outputs": [
    {
     "data": {
      "text/html": [
       "<div>\n",
       "<style scoped>\n",
       "    .dataframe tbody tr th:only-of-type {\n",
       "        vertical-align: middle;\n",
       "    }\n",
       "\n",
       "    .dataframe tbody tr th {\n",
       "        vertical-align: top;\n",
       "    }\n",
       "\n",
       "    .dataframe thead th {\n",
       "        text-align: right;\n",
       "    }\n",
       "</style>\n",
       "<table border=\"1\" class=\"dataframe\">\n",
       "  <thead>\n",
       "    <tr style=\"text-align: right;\">\n",
       "      <th>sexo</th>\n",
       "      <th>Hombre</th>\n",
       "      <th>Mujer</th>\n",
       "      <th>All</th>\n",
       "    </tr>\n",
       "    <tr>\n",
       "      <th>puesto</th>\n",
       "      <th></th>\n",
       "      <th></th>\n",
       "      <th></th>\n",
       "    </tr>\n",
       "  </thead>\n",
       "  <tbody>\n",
       "    <tr>\n",
       "      <th>Gerencial</th>\n",
       "      <td>43</td>\n",
       "      <td>11</td>\n",
       "      <td>54</td>\n",
       "    </tr>\n",
       "    <tr>\n",
       "      <th>No gerencial</th>\n",
       "      <td>52</td>\n",
       "      <td>94</td>\n",
       "      <td>146</td>\n",
       "    </tr>\n",
       "    <tr>\n",
       "      <th>All</th>\n",
       "      <td>95</td>\n",
       "      <td>105</td>\n",
       "      <td>200</td>\n",
       "    </tr>\n",
       "  </tbody>\n",
       "</table>\n",
       "</div>"
      ],
      "text/plain": [
       "sexo          Hombre  Mujer  All\n",
       "puesto                          \n",
       "Gerencial         43     11   54\n",
       "No gerencial      52     94  146\n",
       "All               95    105  200"
      ]
     },
     "execution_count": 14,
     "metadata": {},
     "output_type": "execute_result"
    }
   ],
   "source": [
    "# Utiliza `crosstab` de Pandas. Pasa `True` al parámetro `margins`\n",
    "\n",
    "pd.crosstab(data.puesto, data.sexo, margins=True)"
   ]
  },
  {
   "cell_type": "markdown",
   "metadata": {
    "id": "q9cSe7tL6OfS"
   },
   "source": [
    "## Pregunta de análisis\n",
    "\n",
    "Para este conjunto de datos, se nos pide determinar la brecha salarial entre hombres y mujeres en la empresa en la que se recolectaron estos datos.\n",
    "\n",
    "- Antes de continuar, usa las tablas de contingencia anteriores para intentar contestar la pregunta."
   ]
  },
  {
   "cell_type": "markdown",
   "metadata": {
    "id": "449iMN_LxOgn"
   },
   "source": [
    "**Tu respuesta:**\n",
    "\n",
    "Si se ocupa la tabla de contingencia que muestra los salarios promedio, se podría decir que los salarios promedio de las mujeres son superiores al de los hombres. Sin embargo, se están tomando en cuenta todos los datos de entrada sin hacer una limpieza previa, esto puede generar errores. Por ejemplo, si se observa la gráfica que despliega el salario, se nota un punto muy alejado -correspondiente al de una mujer gerente- que apunta aún salario muy superior al de los demás puntos. Este tipo de información puede generar un sesgo que no se está tomando en cuenta durante el cálculo de los salarios promedio. Por tanto, se requiere de un análisis más profundo para determinar la brecha salarial."
   ]
  },
  {
   "cell_type": "markdown",
   "metadata": {
    "id": "8MyQJIV57Grz"
   },
   "source": [
    "## Análisis guiado"
   ]
  },
  {
   "cell_type": "markdown",
   "metadata": {
    "id": "RSdaOlHFfvr4"
   },
   "source": [
    "## 1. Calcula el salario promedio de mujeres y hombres\n",
    "\n",
    "- Calcula el salario promedio de las mujeres\n",
    "- Calcula el salario promedio de los hombres\n",
    "- Saca la diferencia\n",
    "\n",
    "¿Quién gana más?"
   ]
  },
  {
   "cell_type": "code",
   "execution_count": 15,
   "metadata": {
    "id": "lp5caeWUepRe"
   },
   "outputs": [
    {
     "name": "stdout",
     "output_type": "stream",
     "text": [
      "\n",
      "Las mujeres ganan en promedio: $33,193.63\n",
      "Los hombres ganan en promedio: $37,323.71\n",
      "\n",
      "La diferencia es $-4,130.08\n",
      "\n"
     ]
    }
   ],
   "source": [
    "## tu código\n",
    "\n",
    "promedio_mujeres = data.where(data['sexo'] == 'Mujer')['salario'].mean()\n",
    "promedio_hombres = data.where(data['sexo'] == 'Hombre')['salario'].mean()\n",
    "\n",
    "##\n",
    "\n",
    "print(f\"\"\"\n",
    "Las mujeres ganan en promedio: ${promedio_mujeres:,.2f}\n",
    "Los hombres ganan en promedio: ${promedio_hombres:,.2f}\n",
    "\n",
    "La diferencia es ${promedio_mujeres - promedio_hombres:,.2f}\n",
    "\"\"\")"
   ]
  },
  {
   "cell_type": "markdown",
   "metadata": {
    "id": "pGMOvsOXhVJV"
   },
   "source": [
    "## 2. Ahora compara por estratos\n",
    "\n",
    "- Compara por categoría `puesto` de forma separada.\n",
    "\n",
    "- ¿Ahora, cuál es la diferencia salarial en cada categoría?\n",
    "\n",
    "- ¿Quién gana más en cada tipo de puesto?"
   ]
  },
  {
   "cell_type": "code",
   "execution_count": 16,
   "metadata": {
    "id": "s2JQWRoDvGtE"
   },
   "outputs": [
    {
     "data": {
      "text/html": [
       "<div>\n",
       "<style scoped>\n",
       "    .dataframe tbody tr th:only-of-type {\n",
       "        vertical-align: middle;\n",
       "    }\n",
       "\n",
       "    .dataframe tbody tr th {\n",
       "        vertical-align: top;\n",
       "    }\n",
       "\n",
       "    .dataframe thead th {\n",
       "        text-align: right;\n",
       "    }\n",
       "</style>\n",
       "<table border=\"1\" class=\"dataframe\">\n",
       "  <thead>\n",
       "    <tr style=\"text-align: right;\">\n",
       "      <th></th>\n",
       "      <th>sexo</th>\n",
       "      <th>puesto</th>\n",
       "      <th>salario</th>\n",
       "    </tr>\n",
       "    <tr>\n",
       "      <th>index</th>\n",
       "      <th></th>\n",
       "      <th></th>\n",
       "      <th></th>\n",
       "    </tr>\n",
       "  </thead>\n",
       "  <tbody>\n",
       "    <tr>\n",
       "      <th>0</th>\n",
       "      <td>Hombre</td>\n",
       "      <td>No gerencial</td>\n",
       "      <td>24092.767040</td>\n",
       "    </tr>\n",
       "    <tr>\n",
       "      <th>1</th>\n",
       "      <td>Mujer</td>\n",
       "      <td>No gerencial</td>\n",
       "      <td>25574.011864</td>\n",
       "    </tr>\n",
       "    <tr>\n",
       "      <th>2</th>\n",
       "      <td>Hombre</td>\n",
       "      <td>Gerencial</td>\n",
       "      <td>39051.930008</td>\n",
       "    </tr>\n",
       "    <tr>\n",
       "      <th>3</th>\n",
       "      <td>Mujer</td>\n",
       "      <td>No gerencial</td>\n",
       "      <td>26058.226921</td>\n",
       "    </tr>\n",
       "    <tr>\n",
       "      <th>4</th>\n",
       "      <td>Hombre</td>\n",
       "      <td>Gerencial</td>\n",
       "      <td>44688.832593</td>\n",
       "    </tr>\n",
       "  </tbody>\n",
       "</table>\n",
       "</div>"
      ],
      "text/plain": [
       "         sexo        puesto       salario\n",
       "index                                    \n",
       "0      Hombre  No gerencial  24092.767040\n",
       "1       Mujer  No gerencial  25574.011864\n",
       "2      Hombre     Gerencial  39051.930008\n",
       "3       Mujer  No gerencial  26058.226921\n",
       "4      Hombre     Gerencial  44688.832593"
      ]
     },
     "execution_count": 16,
     "metadata": {},
     "output_type": "execute_result"
    }
   ],
   "source": [
    "data.head()"
   ]
  },
  {
   "cell_type": "code",
   "execution_count": 17,
   "metadata": {
    "id": "oH5YgNnTNzPS"
   },
   "outputs": [
    {
     "data": {
      "text/html": [
       "<div>\n",
       "<style scoped>\n",
       "    .dataframe tbody tr th:only-of-type {\n",
       "        vertical-align: middle;\n",
       "    }\n",
       "\n",
       "    .dataframe tbody tr th {\n",
       "        vertical-align: top;\n",
       "    }\n",
       "\n",
       "    .dataframe thead th {\n",
       "        text-align: right;\n",
       "    }\n",
       "</style>\n",
       "<table border=\"1\" class=\"dataframe\">\n",
       "  <thead>\n",
       "    <tr style=\"text-align: right;\">\n",
       "      <th></th>\n",
       "      <th></th>\n",
       "      <th>salario</th>\n",
       "      <th>cuentas</th>\n",
       "    </tr>\n",
       "    <tr>\n",
       "      <th>puesto</th>\n",
       "      <th>sexo</th>\n",
       "      <th></th>\n",
       "      <th></th>\n",
       "    </tr>\n",
       "  </thead>\n",
       "  <tbody>\n",
       "    <tr>\n",
       "      <th rowspan=\"2\" valign=\"top\">Gerencial</th>\n",
       "      <th>Hombre</th>\n",
       "      <td>45342.802726</td>\n",
       "      <td>43</td>\n",
       "    </tr>\n",
       "    <tr>\n",
       "      <th>Mujer</th>\n",
       "      <td>48006.103590</td>\n",
       "      <td>11</td>\n",
       "    </tr>\n",
       "    <tr>\n",
       "      <th rowspan=\"2\" valign=\"top\">No gerencial</th>\n",
       "      <th>Hombre</th>\n",
       "      <td>30692.538241</td>\n",
       "      <td>52</td>\n",
       "    </tr>\n",
       "    <tr>\n",
       "      <th>Mujer</th>\n",
       "      <td>31460.255062</td>\n",
       "      <td>94</td>\n",
       "    </tr>\n",
       "  </tbody>\n",
       "</table>\n",
       "</div>"
      ],
      "text/plain": [
       "                          salario  cuentas\n",
       "puesto       sexo                         \n",
       "Gerencial    Hombre  45342.802726       43\n",
       "             Mujer   48006.103590       11\n",
       "No gerencial Hombre  30692.538241       52\n",
       "             Mujer   31460.255062       94"
      ]
     },
     "execution_count": 17,
     "metadata": {},
     "output_type": "execute_result"
    }
   ],
   "source": [
    "## Tu código\n",
    "## Utiliza `groupby` para sacar el promedio salarial por puesto y sexo\n",
    "## también cuenta la ocurrencia de cada combinación de categorías (i.e., \n",
    "## Gerencia y Hombre, Gerencial y Mujer, etc.)\n",
    "\n",
    "\n",
    "data_grpd = (data\n",
    "             .groupby(['puesto','sexo'])\n",
    "             .agg({'salario':'mean', 'sexo':'count'})\n",
    "             .rename(columns={'sexo':'cuentas'}) #renombra la columna `sexo` a cuentas\n",
    "             ) \n",
    "##\n",
    "\n",
    "data_grpd"
   ]
  },
  {
   "cell_type": "code",
   "execution_count": 18,
   "metadata": {
    "id": "2QRyWNdwqrbc"
   },
   "outputs": [
    {
     "name": "stdout",
     "output_type": "stream",
     "text": [
      "\n",
      "Las mujeres gerentes ganan en promedio: $48,006.10\n",
      "Los hombres gerentes ganan en promedio: $45,342.80\n",
      "\n",
      "La diferencia es $2,663.30\n",
      "\n"
     ]
    }
   ],
   "source": [
    "promedio_mujeres_gerentes = data_grpd.loc[\n",
    "                                          [(\"Gerencial\", \"Mujer\")],\n",
    "                                          \"salario\"\n",
    "                                          ].values\n",
    "promedio_hombres_gerentes = data_grpd.loc[\n",
    "                                          [(\"Gerencial\", \"Hombre\")],\n",
    "                                          \"salario\"\n",
    "                                          ].values\n",
    "diferencia_gerentes = (promedio_mujeres_gerentes - promedio_hombres_gerentes)[0]\n",
    "\n",
    "print(f\"\"\"\n",
    "Las mujeres gerentes ganan en promedio: ${promedio_mujeres_gerentes[0]:,.2f}\n",
    "Los hombres gerentes ganan en promedio: ${promedio_hombres_gerentes[0]:,.2f}\n",
    "\n",
    "La diferencia es ${diferencia_gerentes:,.2f}\n",
    "\"\"\")"
   ]
  },
  {
   "cell_type": "code",
   "execution_count": 19,
   "metadata": {
    "id": "x-vl0d6KrJvX"
   },
   "outputs": [
    {
     "name": "stdout",
     "output_type": "stream",
     "text": [
      "\n",
      "Las mujeres gerentes ganan en promedio: $31,460.26\n",
      "Los hombres gerentes ganan en promedio: $30,692.54\n",
      "\n",
      "La diferencia es $767.72\n",
      "\n"
     ]
    }
   ],
   "source": [
    "promedio_mujeres_no_gerentes = data_grpd.loc[\n",
    "                                             [(\"No gerencial\", \"Mujer\")],\n",
    "                                             \"salario\"].values\n",
    "promedio_hombres_no_gerentes = data_grpd.loc[\n",
    "                                             [(\"No gerencial\", \"Hombre\")],\n",
    "                                             \"salario\"\n",
    "                                             ].values\n",
    "diferencia_no_gerentes = (promedio_mujeres_no_gerentes -\n",
    "                          promedio_hombres_no_gerentes)[0]\n",
    "\n",
    "print(f\"\"\"\n",
    "Las mujeres gerentes ganan en promedio: ${promedio_mujeres_no_gerentes[0]:,.2f}\n",
    "Los hombres gerentes ganan en promedio: ${promedio_hombres_no_gerentes[0]:,.2f}\n",
    "\n",
    "La diferencia es ${diferencia_no_gerentes:,.2f}\n",
    "\"\"\")"
   ]
  },
  {
   "cell_type": "markdown",
   "metadata": {
    "id": "8MpB2jWPXXcS"
   },
   "source": [
    "## Opcional\n",
    "\n",
    "Haz una suma ponderada por la cantidad de gerentes de las diferencias anteriores."
   ]
  },
  {
   "cell_type": "code",
   "execution_count": 36,
   "metadata": {
    "id": "FNy0JO_ErUcj"
   },
   "outputs": [
    {
     "name": "stdout",
     "output_type": "stream",
     "text": [
      "La diferencia ponderada es: $-26,327.28\n"
     ]
    }
   ],
   "source": [
    "## Tu código\n",
    "weight_mujer= 11/54\n",
    "weight_hombre= 43/54\n",
    "\n",
    "diferencia_ponderada = (promedio_mujeres_gerentes[0]*weight_mujer -  promedio_hombres_gerentes[0]*weight_hombre) \n",
    "\n",
    "##\n",
    "\n",
    "print(f\"La diferencia ponderada es: ${diferencia_ponderada:,.2f}\")"
   ]
  },
  {
   "cell_type": "markdown",
   "metadata": {
    "id": "df6DtJM_Z4iP"
   },
   "source": [
    "## Reflexión\n",
    "\n",
    "- ¿Qué crees que sea lo que esté sucediendo? ¿Cómo es posible que al ver cada tipo de puesto la diferencia favorezca a un sexo, pero al ver la población entera la preferencia se invierte?\n",
    "- Si las etiquetas de los datos fueran `estilo de vida` en lugar de `sexo`, `puesto` y `salario`, ¿cambiaría tu respuesta?"
   ]
  },
  {
   "cell_type": "markdown",
   "metadata": {
    "id": "vV7R_W4Qya9j"
   },
   "source": [
    "**Tu respuesta:**\n",
    "Considero que el estilo de vida podría estar correlacionado con el salario. Pero aún así, se vería un ligero cambio en los resultados."
   ]
  },
  {
   "cell_type": "markdown",
   "metadata": {
    "id": "5rzD9W3BXc0-"
   },
   "source": [
    "# Análisis estadístico de diferencias de medias"
   ]
  },
  {
   "cell_type": "markdown",
   "metadata": {
    "id": "DxJ9zRFbXi6t"
   },
   "source": [
    "Haz una regresión lineal `salario ~ sexo`.\n",
    "\n",
    "Compara el coeficiente (pendiente) de la variable categórica `sexo` con el resultado que habías obtenido arriba.\n",
    "\n",
    "¿Las diferencias son (estadísticamente) significativas?"
   ]
  },
  {
   "cell_type": "markdown",
   "metadata": {},
   "source": [
    "**Tu respuesta:**"
   ]
  },
  {
   "cell_type": "code",
   "execution_count": 21,
   "metadata": {
    "id": "0Z9qFUKTsR02"
   },
   "outputs": [
    {
     "data": {
      "text/html": [
       "<table class=\"simpletable\">\n",
       "<tr>\n",
       "        <td>Model:</td>               <td>OLS</td>         <td>Adj. R-squared:</td>      <td>0.054</td>  \n",
       "</tr>\n",
       "<tr>\n",
       "  <td>Dependent Variable:</td>      <td>salario</td>            <td>AIC:</td>          <td>4177.8424</td>\n",
       "</tr>\n",
       "<tr>\n",
       "         <td>Date:</td>        <td>2022-02-11 21:34</td>        <td>BIC:</td>          <td>4184.4391</td>\n",
       "</tr>\n",
       "<tr>\n",
       "   <td>No. Observations:</td>         <td>200</td>         <td>Log-Likelihood:</td>     <td>-2086.9</td> \n",
       "</tr>\n",
       "<tr>\n",
       "       <td>Df Model:</td>              <td>1</td>           <td>F-statistic:</td>        <td>12.43</td>  \n",
       "</tr>\n",
       "<tr>\n",
       "     <td>Df Residuals:</td>           <td>198</td>       <td>Prob (F-statistic):</td>  <td>0.000524</td> \n",
       "</tr>\n",
       "<tr>\n",
       "      <td>R-squared:</td>            <td>0.059</td>            <td>Scale:</td>        <td>6.8434e+07</td>\n",
       "</tr>\n",
       "</table>\n",
       "<table class=\"simpletable\">\n",
       "<tr>\n",
       "        <td></td>           <th>Coef.</th>   <th>Std.Err.</th>     <th>t</th>     <th>P>|t|</th>   <th>[0.025</th>     <th>0.975]</th>  \n",
       "</tr>\n",
       "<tr>\n",
       "  <th>Intercept</th>     <td>37323.7106</td> <td>848.7412</td>  <td>43.9754</td> <td>0.0000</td> <td>35649.9782</td> <td>38997.4430</td>\n",
       "</tr>\n",
       "<tr>\n",
       "  <th>sexo[T.Mujer]</th> <td>-4130.0809</td> <td>1171.3741</td> <td>-3.5258</td> <td>0.0005</td> <td>-6440.0511</td> <td>-1820.1107</td>\n",
       "</tr>\n",
       "</table>\n",
       "<table class=\"simpletable\">\n",
       "<tr>\n",
       "     <td>Omnibus:</td>    <td>13.506</td>  <td>Durbin-Watson:</td>    <td>2.108</td>\n",
       "</tr>\n",
       "<tr>\n",
       "  <td>Prob(Omnibus):</td>  <td>0.001</td> <td>Jarque-Bera (JB):</td> <td>15.725</td>\n",
       "</tr>\n",
       "<tr>\n",
       "       <td>Skew:</td>      <td>0.520</td>     <td>Prob(JB):</td>      <td>0.000</td>\n",
       "</tr>\n",
       "<tr>\n",
       "     <td>Kurtosis:</td>    <td>3.896</td>  <td>Condition No.:</td>      <td>3</td>  \n",
       "</tr>\n",
       "</table>"
      ],
      "text/plain": [
       "<class 'statsmodels.iolib.summary2.Summary'>\n",
       "\"\"\"\n",
       "                    Results: Ordinary least squares\n",
       "=======================================================================\n",
       "Model:                OLS               Adj. R-squared:      0.054     \n",
       "Dependent Variable:   salario           AIC:                 4177.8424 \n",
       "Date:                 2022-02-11 21:34  BIC:                 4184.4391 \n",
       "No. Observations:     200               Log-Likelihood:      -2086.9   \n",
       "Df Model:             1                 F-statistic:         12.43     \n",
       "Df Residuals:         198               Prob (F-statistic):  0.000524  \n",
       "R-squared:            0.059             Scale:               6.8434e+07\n",
       "-----------------------------------------------------------------------\n",
       "                Coef.     Std.Err.    t    P>|t|    [0.025     0.975]  \n",
       "-----------------------------------------------------------------------\n",
       "Intercept     37323.7106  848.7412 43.9754 0.0000 35649.9782 38997.4430\n",
       "sexo[T.Mujer] -4130.0809 1171.3741 -3.5258 0.0005 -6440.0511 -1820.1107\n",
       "-----------------------------------------------------------------------\n",
       "Omnibus:                13.506         Durbin-Watson:            2.108 \n",
       "Prob(Omnibus):          0.001          Jarque-Bera (JB):         15.725\n",
       "Skew:                   0.520          Prob(JB):                 0.000 \n",
       "Kurtosis:               3.896          Condition No.:            3     \n",
       "=======================================================================\n",
       "\n",
       "\"\"\""
      ]
     },
     "execution_count": 21,
     "metadata": {},
     "output_type": "execute_result"
    }
   ],
   "source": [
    "uncontrolled_model = smf.ols(\"salario ~ sexo\", data=data).fit()\n",
    "uncontrolled_model.summary2()"
   ]
  },
  {
   "cell_type": "markdown",
   "metadata": {
    "id": "ScuEzN6mYCVI"
   },
   "source": [
    "Haz una regresión lineal `salario ~ sexo + puesto`.\n",
    "\n",
    "Ahora, compara el coeficiente (pendiente) de la variable categórica `sexo` con el resultado _ponderado_ que habías obtenido arriba (tal vez no sea exactamente el mismo).\n",
    "\n",
    "¿Las diferencias son (estadísticamente) significativas?"
   ]
  },
  {
   "cell_type": "markdown",
   "metadata": {},
   "source": [
    "**Tu respuesta:**\n",
    "La diferencia con el resultado calculado es alta. Aunque cabe la posibilidad que el calculo sea erroneo y por tal motivo se vea esa diferencia-"
   ]
  },
  {
   "cell_type": "code",
   "execution_count": 22,
   "metadata": {
    "id": "423oBK-oP-sz"
   },
   "outputs": [
    {
     "data": {
      "text/html": [
       "<table class=\"simpletable\">\n",
       "<tr>\n",
       "        <td>Model:</td>               <td>OLS</td>         <td>Adj. R-squared:</td>      <td>0.591</td>  \n",
       "</tr>\n",
       "<tr>\n",
       "  <td>Dependent Variable:</td>      <td>salario</td>            <td>AIC:</td>          <td>4011.0757</td>\n",
       "</tr>\n",
       "<tr>\n",
       "         <td>Date:</td>        <td>2022-02-11 21:35</td>        <td>BIC:</td>          <td>4020.9707</td>\n",
       "</tr>\n",
       "<tr>\n",
       "   <td>No. Observations:</td>         <td>200</td>         <td>Log-Likelihood:</td>     <td>-2002.5</td> \n",
       "</tr>\n",
       "<tr>\n",
       "       <td>Df Model:</td>              <td>2</td>           <td>F-statistic:</td>        <td>144.9</td>  \n",
       "</tr>\n",
       "<tr>\n",
       "     <td>Df Residuals:</td>           <td>197</td>       <td>Prob (F-statistic):</td>  <td>1.98e-39</td> \n",
       "</tr>\n",
       "<tr>\n",
       "      <td>R-squared:</td>            <td>0.595</td>            <td>Scale:</td>        <td>2.9580e+07</td>\n",
       "</tr>\n",
       "</table>\n",
       "<table class=\"simpletable\">\n",
       "<tr>\n",
       "             <td></td>               <th>Coef.</th>    <th>Std.Err.</th>     <th>t</th>     <th>P>|t|</th>   <th>[0.025</th>      <th>0.975]</th>   \n",
       "</tr>\n",
       "<tr>\n",
       "  <th>Intercept</th>              <td>45648.8649</td>  <td>759.5002</td>  <td>60.1038</td> <td>0.0000</td> <td>44151.0704</td>  <td>47146.6594</td> \n",
       "</tr>\n",
       "<tr>\n",
       "  <th>sexo[T.Mujer]</th>           <td>1160.8139</td>  <td>836.8451</td>  <td>1.3871</td>  <td>0.1670</td>  <td>-489.5108</td>   <td>2811.1385</td> \n",
       "</tr>\n",
       "<tr>\n",
       "  <th>puesto[T.No gerencial]</th> <td>-15209.4165</td> <td>941.3004</td> <td>-16.1579</td> <td>0.0000</td> <td>-17065.7352</td> <td>-13353.0978</td>\n",
       "</tr>\n",
       "</table>\n",
       "<table class=\"simpletable\">\n",
       "<tr>\n",
       "     <td>Omnibus:</td>    <td>5.588</td>  <td>Durbin-Watson:</td>   <td>1.809</td>\n",
       "</tr>\n",
       "<tr>\n",
       "  <td>Prob(Omnibus):</td> <td>0.061</td> <td>Jarque-Bera (JB):</td> <td>8.377</td>\n",
       "</tr>\n",
       "<tr>\n",
       "       <td>Skew:</td>     <td>0.001</td>     <td>Prob(JB):</td>     <td>0.015</td>\n",
       "</tr>\n",
       "<tr>\n",
       "     <td>Kurtosis:</td>   <td>4.003</td>  <td>Condition No.:</td>     <td>4</td>  \n",
       "</tr>\n",
       "</table>"
      ],
      "text/plain": [
       "<class 'statsmodels.iolib.summary2.Summary'>\n",
       "\"\"\"\n",
       "                          Results: Ordinary least squares\n",
       "===================================================================================\n",
       "Model:                    OLS                   Adj. R-squared:          0.591     \n",
       "Dependent Variable:       salario               AIC:                     4011.0757 \n",
       "Date:                     2022-02-11 21:35      BIC:                     4020.9707 \n",
       "No. Observations:         200                   Log-Likelihood:          -2002.5   \n",
       "Df Model:                 2                     F-statistic:             144.9     \n",
       "Df Residuals:             197                   Prob (F-statistic):      1.98e-39  \n",
       "R-squared:                0.595                 Scale:                   2.9580e+07\n",
       "-----------------------------------------------------------------------------------\n",
       "                          Coef.    Std.Err.    t     P>|t|     [0.025      0.975]  \n",
       "-----------------------------------------------------------------------------------\n",
       "Intercept               45648.8649 759.5002  60.1038 0.0000  44151.0704  47146.6594\n",
       "sexo[T.Mujer]            1160.8139 836.8451   1.3871 0.1670   -489.5108   2811.1385\n",
       "puesto[T.No gerencial] -15209.4165 941.3004 -16.1579 0.0000 -17065.7352 -13353.0978\n",
       "-----------------------------------------------------------------------------------\n",
       "Omnibus:                    5.588              Durbin-Watson:                 1.809\n",
       "Prob(Omnibus):              0.061              Jarque-Bera (JB):              8.377\n",
       "Skew:                       0.001              Prob(JB):                      0.015\n",
       "Kurtosis:                   4.003              Condition No.:                 4    \n",
       "===================================================================================\n",
       "\n",
       "\"\"\""
      ]
     },
     "execution_count": 22,
     "metadata": {},
     "output_type": "execute_result"
    }
   ],
   "source": [
    "controlled_model = smf.ols(\"salario ~ sexo + puesto\", data=data).fit()\n",
    "controlled_model.summary2()"
   ]
  },
  {
   "cell_type": "markdown",
   "metadata": {
    "id": "mmZox2G3bZJn"
   },
   "source": [
    "# Análisis con _Bootstrap_"
   ]
  },
  {
   "cell_type": "markdown",
   "metadata": {
    "id": "ygP6Ifm-jaYz"
   },
   "source": [
    "Analiza el siguiente código para contestar las siguientes preguntas:\n",
    "\n",
    "- ¿Qué regresa la función `estimate_statistic`?\n",
    "- ¿Qué hace la línea 10 del código de la siguiente celda?\n",
    "- Compara el valor de la variable `mean_difference` con los resultados obtenidos en las secciones anteriores.\n",
    "- ¿Cómo se interpreta el intervalo $[\\mathrm{LL}, \\mathrm{UU}]$?\n",
    "- ¿Cuántos elementos tiene el arreglo `bootstrap_statistcs` y por qué su histograma tiende a una distribución normal?\n",
    "\n"
   ]
  },
  {
   "cell_type": "markdown",
   "metadata": {
    "id": "cJ4P8pCWyhXX"
   },
   "source": [
    "**Tu respuesta:**\n",
    "1. La función estimate_statistic regresa la regresión lineal de los datos en bootstrap_sample\n",
    "2. Regresa una muestra de datos aleatoria que es igual a la cantidad de datos en el dataframe data\n",
    "3. El valor es similar a la regresión obtenida en las secciones anteriores y se acerca más al valor calculo para la regresión de \"salario ~ sexo\"\n",
    "4. Representa un rango de la distribución de los valores alrededor de la media de los salarios\n",
    "5. `bootstrap_statistcs` contine 10000 datos, que se presentan en forma de distribución normal por los datos estádisticos que arroja la función para calcular la regresión, entre ellos entrega una matriz de covarianzas normalizadas."
   ]
  },
  {
   "cell_type": "code",
   "execution_count": 28,
   "metadata": {
    "id": "p-BHmzlFbcBd"
   },
   "outputs": [
    {
     "name": "stderr",
     "output_type": "stream",
     "text": [
      "100%|███████████████████████████████████████████████████████████████████████████| 10000/10000 [00:43<00:00, 228.60it/s]\n"
     ]
    }
   ],
   "source": [
    "def estimate_statistic(bootstrap_sample):\n",
    "  return smf.ols(\"salario ~ sexo\", data=bootstrap_sample).fit().params[1]\n",
    "\n",
    "\n",
    "N_bootstraps = 10_000\n",
    "bootstrap_statistics = []\n",
    "\n",
    "\n",
    "for _ in tqdm(range(N_bootstraps)):\n",
    "  bootstrap_sample = data.sample(n=len(data), replace=True)\n",
    "  statistic = estimate_statistic(bootstrap_sample)\n",
    "  bootstrap_statistics.append(statistic)\n",
    "\n",
    "bootstrap_statistics = np.array(bootstrap_statistics)\n",
    "mean_difference = np.mean(bootstrap_statistics)\n",
    "LL, UU = np.quantile(bootstrap_statistics, 0.025), np.quantile(bootstrap_statistics, 0.975)"
   ]
  },
  {
   "cell_type": "code",
   "execution_count": 40,
   "metadata": {
    "id": "UmM7xLU0dIe_"
   },
   "outputs": [
    {
     "name": "stdout",
     "output_type": "stream",
     "text": [
      "10000\n"
     ]
    },
    {
     "data": {
      "text/plain": [
       "<AxesSubplot:ylabel='Count'>"
      ]
     },
     "execution_count": 40,
     "metadata": {},
     "output_type": "execute_result"
    },
    {
     "data": {
      "image/png": "[encoded data removed]",
      "text/plain": [
       "<Figure size 432x288 with 1 Axes>"
      ]
     },
     "metadata": {
      "needs_background": "light"
     },
     "output_type": "display_data"
    }
   ],
   "source": [
    "\n",
    "print(len(bootstrap_statistics))\n",
    "plt.plot([LL, UU], [0, 0], color=\"yellow\", lw=5)\n",
    "plt.plot([mean_difference, mean_difference], [0, 10], color=\"red\")\n",
    "sns.histplot(data=bootstrap_statistics, bins=30, kde=True)"
   ]
  },
  {
   "cell_type": "code",
   "execution_count": null,
   "metadata": {
    "id": "DkYnbdRSdPvM"
   },
   "outputs": [],
   "source": [
    "print(f\"\"\"\n",
    "El valor estimado por remuestreo con reemplazo es ${mean_difference:,.2f}.\n",
    "Con un intervalo de confianza de bootstrap de [${LL:,.2f}, {UU:,.2f}] al 95 %.\n",
    "\"\"\")"
   ]
  }
 ],
 "metadata": {
  "colab": {
   "collapsed_sections": [],
   "include_colab_link": true,
   "name": "Causal_Inference_A22_Ex01_HW.ipynb",
   "provenance": [],
   "toc_visible": true
  },
  "kernelspec": {
   "display_name": "Python 3 (ipykernel)",
   "language": "python",
   "name": "python3"
  },
  "language_info": {
   "codemirror_mode": {
    "name": "ipython",
    "version": 3
   },
   "file_extension": ".py",
   "mimetype": "text/x-python",
   "name": "python",
   "nbconvert_exporter": "python",
   "pygments_lexer": "ipython3",
   "version": "3.9.7"
  }
 },
 "nbformat": 4,
 "nbformat_minor": 4
}
